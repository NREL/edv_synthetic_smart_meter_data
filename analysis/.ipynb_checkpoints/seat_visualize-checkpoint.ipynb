{
 "cells": [
  {
   "cell_type": "code",
   "execution_count": 63,
   "metadata": {},
   "outputs": [],
   "source": [
    "import pandas as pd\n",
    "import plotnine as p9\n",
    "from mizani.formatters import scientific_format, comma_format"
   ]
  },
  {
   "cell_type": "markdown",
   "metadata": {},
   "source": [
    "Import meta and results"
   ]
  },
  {
   "cell_type": "code",
   "execution_count": 2,
   "metadata": {},
   "outputs": [],
   "source": [
    "meta = \"../data/raw/meta_open.csv\"\n",
    "results_sum = \"../Test_output/results/results.csv\"\n",
    "bdgp_types = pd.read_csv(meta, usecols=['uid', 'primaryspaceusage'], index_col='uid')\n",
    "seat_types = pd.read_csv(results_sum, index_col='buildingid')\n",
    "df = seat_types.join(bdgp_types)"
   ]
  },
  {
   "cell_type": "markdown",
   "metadata": {},
   "source": [
    "Utility function for plotting"
   ]
  },
  {
   "cell_type": "code",
   "execution_count": 90,
   "metadata": {},
   "outputs": [],
   "source": [
    "def my_plotter(df, space_usage):\n",
    "    df2 = df.loc[df['primaryspaceusage'] == space_usage]\n",
    "    act_max = max(df[df['primaryspaceusage'] == space_usage]['consumption_actual'])\n",
    "    mod_max = max(df[df['primaryspaceusage'] == space_usage]['consumption_model'])\n",
    "    m = max([act_max, mod_max])\n",
    "    lims = [0, m]\n",
    "    p = p9.ggplot(data=df2, mapping=p9.aes(x=\"consumption_actual\", y=\"consumption_model\"))\n",
    "    p = p + p9.geom_point(alpha=0.5) + p9.geom_line(p9.aes(y=\"consumption_actual\")) + p9.labels.ggtitle(space_usage) + p9.scales.scale_y_continuous(limits = lims) + p9.scales.scale_x_continuous(limits=lims)\n",
    "    f_name = 'plots/' + space_usage.lower().replace(' ', '_').replace('/', '_') + '.png'\n",
    "    p9.ggplot.save(p, filename=f_name, width=12, height=9, units='in', dpi=300)"
   ]
  },
  {
   "cell_type": "markdown",
   "metadata": {},
   "source": [
    "Iterate through unique primary space types and plot"
   ]
  },
  {
   "cell_type": "code",
   "execution_count": 92,
   "metadata": {},
   "outputs": [
    {
     "name": "stderr",
     "output_type": "stream",
     "text": [
      "/Users/cmosiman/.pyenv/versions/3.6.5/envs/jupyter-seat/lib/python3.6/site-packages/plotnine/ggplot.py:729: PlotnineWarning: Saving 12 x 9 in image.\n",
      "  from_inches(height, units), units), PlotnineWarning)\n",
      "/Users/cmosiman/.pyenv/versions/3.6.5/envs/jupyter-seat/lib/python3.6/site-packages/plotnine/ggplot.py:730: PlotnineWarning: Filename: plots/office.png\n",
      "  warn('Filename: {}'.format(filename), PlotnineWarning)\n",
      "/Users/cmosiman/.pyenv/versions/3.6.5/envs/jupyter-seat/lib/python3.6/site-packages/plotnine/ggplot.py:729: PlotnineWarning: Saving 12 x 9 in image.\n",
      "  from_inches(height, units), units), PlotnineWarning)\n",
      "/Users/cmosiman/.pyenv/versions/3.6.5/envs/jupyter-seat/lib/python3.6/site-packages/plotnine/ggplot.py:730: PlotnineWarning: Filename: plots/college_laboratory.png\n",
      "  warn('Filename: {}'.format(filename), PlotnineWarning)\n",
      "/Users/cmosiman/.pyenv/versions/3.6.5/envs/jupyter-seat/lib/python3.6/site-packages/plotnine/ggplot.py:729: PlotnineWarning: Saving 12 x 9 in image.\n",
      "  from_inches(height, units), units), PlotnineWarning)\n",
      "/Users/cmosiman/.pyenv/versions/3.6.5/envs/jupyter-seat/lib/python3.6/site-packages/plotnine/ggplot.py:730: PlotnineWarning: Filename: plots/dormitory.png\n",
      "  warn('Filename: {}'.format(filename), PlotnineWarning)\n",
      "/Users/cmosiman/.pyenv/versions/3.6.5/envs/jupyter-seat/lib/python3.6/site-packages/plotnine/ggplot.py:729: PlotnineWarning: Saving 12 x 9 in image.\n",
      "  from_inches(height, units), units), PlotnineWarning)\n",
      "/Users/cmosiman/.pyenv/versions/3.6.5/envs/jupyter-seat/lib/python3.6/site-packages/plotnine/ggplot.py:730: PlotnineWarning: Filename: plots/college_classroom.png\n",
      "  warn('Filename: {}'.format(filename), PlotnineWarning)\n",
      "/Users/cmosiman/.pyenv/versions/3.6.5/envs/jupyter-seat/lib/python3.6/site-packages/plotnine/ggplot.py:729: PlotnineWarning: Saving 12 x 9 in image.\n",
      "  from_inches(height, units), units), PlotnineWarning)\n",
      "/Users/cmosiman/.pyenv/versions/3.6.5/envs/jupyter-seat/lib/python3.6/site-packages/plotnine/ggplot.py:730: PlotnineWarning: Filename: plots/primary_secondary_classroom.png\n",
      "  warn('Filename: {}'.format(filename), PlotnineWarning)\n"
     ]
    }
   ],
   "source": [
    "types = df.primaryspaceusage.unique().tolist()\n",
    "for t in types:\n",
    "    my_plotter(df, t)"
   ]
  }
 ],
 "metadata": {
  "kernelspec": {
   "display_name": "Python 3",
   "language": "python",
   "name": "python3"
  },
  "language_info": {
   "codemirror_mode": {
    "name": "ipython",
    "version": 3
   },
   "file_extension": ".py",
   "mimetype": "text/x-python",
   "name": "python",
   "nbconvert_exporter": "python",
   "pygments_lexer": "ipython3",
   "version": "3.6.5"
  }
 },
 "nbformat": 4,
 "nbformat_minor": 4
}
