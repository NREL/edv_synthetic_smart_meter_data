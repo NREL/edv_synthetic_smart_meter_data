{
 "cells": [
  {
   "cell_type": "code",
   "execution_count": 18,
   "metadata": {},
   "outputs": [],
   "source": [
    "import numpy as np\n",
    "import pandas as pd\n",
    "import os\n",
    "import matplotlib.pyplot as plt\n",
    "import seaborn as sns"
   ]
  },
  {
   "cell_type": "code",
   "execution_count": 12,
   "metadata": {},
   "outputs": [],
   "source": [
    "meta = \"../data/raw/meta_open.csv\"\n",
    "test_dir = \"tests\"\n",
    "results_files = [f for f in os.listdir(test_dir) if f.endswith(\".csv\")]\n",
    "df_bdgp = pd.read_csv(meta, usecols=['uid', 'primaryspaceusage'])\n",
    "df_bdgp = df_bdgp.rename(columns={\"uid\": \"buildingid\"})"
   ]
  },
  {
   "cell_type": "markdown",
   "metadata": {},
   "source": [
    "# Preview of meta_open.csv\n",
    "meat_open.csv uses `primaryspaceusage` for defining property type"
   ]
  },
  {
   "cell_type": "markdown",
   "metadata": {},
   "source": [
    "| uid                | dataend        | datastart   | energystarscore | heatingtype | industry            | mainheatingtype | numberoffloors | occupants | primaryspaceusage           | rating | sqft   | sqm         | subindustry              | timezone            | yearbuilt | nickname  | primaryspaceuse_abbrev | newweatherfilename |\n",
    "|--------------------|----------------|-------------|-----------------|-------------|---------------------|-----------------|----------------|-----------|-----------------------------|--------|--------|-------------|--------------------------|---------------------|-----------|-----------|------------------------|--------------------|\n",
    "| PrimClass_Everett  | 31/12/12 23:00 | 1/1/12 0:00 |                 |             | Education           |                 |                |           | Primary/Secondary Classroom |        | 105530 | 9804.05359  | Primary/Secondary School | America/New_York    |           | Everett   | PrimClass              | weather12.csv      |\n",
    "| UnivClass_Clifford | 31/12/15 23:00 | 1/1/15 0:00 |                 |             | Education           |                 |                |           | College Classroom           |        | 56969  | 5292.591007 | College/University       | America/New_York    | 1967      | Clifford  | UnivClass              | weather2.csv       |\n",
    "| Office_Elizabeth   | 31/12/12 23:00 | 1/1/12 0:00 |                 |             | Commercial Property |                 |                |           | Office                      |        | 294651 | 27373.96185 | Commercial Real Estate   | America/Los_Angeles |           | Elizabeth | Office                 | weather22.csv      |\n",
    "| Office_Ellie       | 31/12/12 23:00 | 1/1/12 0:00 |                 |             | Commercial Property |                 |                |           | Office                      |        | 496517 | 46127.91885 | Bank/Financial Services  | America/Los_Angeles |           | Ellie     | Office                 | weather28.csv      |"
   ]
  },
  {
   "cell_type": "markdown",
   "metadata": {},
   "source": [
    "---"
   ]
  },
  {
   "cell_type": "markdown",
   "metadata": {},
   "source": [
    "# Preview of a Results File\n",
    "\n",
    "results files use `buildingtype`"
   ]
  },
  {
   "cell_type": "markdown",
   "metadata": {},
   "source": [
    "| buildingid      | yearbuilt | buildingtype     | numberofstories | squarefootage | state      | zipcode | latitude   | longitude   | consumption_actual | consumption_model |\n",
    "|-----------------|-----------|------------------|-----------------|---------------|------------|---------|------------|-------------|--------------------|-------------------|\n",
    "| UnivLab_Alexis  | 1967      | Office           | 1               | 49384         | Arizona    | 85287   | 33.4172    | -111.9365   | 2957596.977        | 1502520.33        |\n",
    "| UnivLab_Cecil   | 1974      | Office           | 1               | 125507        | New York   | 14853   | 42.447577  | -76.4760889 | 5040775.791        | 11655361.01       |\n",
    "| UnivLab_Clodagh | 1933      | Office           | 1               | 28432         | New York   | 14853   | 42.4494115 | -76.4786409 | 1235479.616        | 1363849.014       |\n",
    "| UnivDorm_Poppy  |           | MidriseApartment | 1               | 113000        | New Jersey | 8540    | 40.35      | -74.7       | 18459999.01        | 2733363.631       |"
   ]
  },
  {
   "cell_type": "code",
   "execution_count": 13,
   "metadata": {},
   "outputs": [],
   "source": [
    "# read in all results files and store as a list\n",
    "def gen_results(results_files):\n",
    "#     li = [pd.read_csv(f, index_col='buildingid') for f in results_files]\n",
    "    df2 = pd.DataFrame()\n",
    "    for f in results_files:\n",
    "        df = pd.read_csv(f, index_col='buildingid')\n",
    "        df2 = df2.append(df, ignore_index=True)\n",
    "    return df2\n",
    "\n",
    "# \n",
    "def my_sns_plot(df):\n",
    "    p = sns.relplot(x=\"consumption_actual\", y=\"consumption_model\", hue=\"buildingtype\", \n",
    "                    style=\"buildingtype\", data=df)\n",
    "    plt.plot(x=df[\"consumption_actual\"], y=df[\"consumption_model\"])\n",
    "    plt.show()"
   ]
  },
  {
   "cell_type": "code",
   "execution_count": null,
   "metadata": {},
   "outputs": [],
   "source": [
    "def do_stuff(df_bdgp, results_files):\n",
    "    bdgp_unique_types = df_bdgp.primaryspaceusage.unique()\n",
    "    df2 = pd.DataFrame()\n",
    "    df_results = gen_results(results_files)\n",
    "    for property_type in bdgp_unique_types:\n",
    "        df = pd.merge(df_results, df_bdgp, on=\"buildingid\")\n",
    "        df = df.loc[df['primaryspaceusage'] == property_type]\n",
    "\n",
    "\n",
    "\n"
   ]
  },
  {
   "cell_type": "code",
   "execution_count": 17,
   "metadata": {},
   "outputs": [
    {
     "data": {
      "text/plain": [
       "0"
      ]
     },
     "execution_count": 17,
     "metadata": {},
     "output_type": "execute_result"
    }
   ],
   "source": [
    "\n",
    "\n",
    "\n",
    "    "
   ]
  },
  {
   "cell_type": "code",
   "execution_count": null,
   "metadata": {},
   "outputs": [],
   "source": []
  }
 ],
 "metadata": {
  "kernelspec": {
   "display_name": "Python 3",
   "language": "python",
   "name": "python3"
  },
  "language_info": {
   "codemirror_mode": {
    "name": "ipython",
    "version": 3
   },
   "file_extension": ".py",
   "mimetype": "text/x-python",
   "name": "python",
   "nbconvert_exporter": "python",
   "pygments_lexer": "ipython3",
   "version": "3.6.5"
  }
 },
 "nbformat": 4,
 "nbformat_minor": 4
}
