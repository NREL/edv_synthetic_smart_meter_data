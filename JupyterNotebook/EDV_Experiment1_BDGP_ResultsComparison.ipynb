{
 "cells": [
  {
   "cell_type": "code",
   "execution_count": 18,
   "metadata": {},
   "outputs": [],
   "source": [
    "import pandas as pd\n",
    "import glob"
   ]
  },
  {
   "cell_type": "code",
   "execution_count": 19,
   "metadata": {},
   "outputs": [],
   "source": [
    "folder = \"../Test_output/SimulationFiles\""
   ]
  },
  {
   "cell_type": "code",
   "execution_count": 63,
   "metadata": {},
   "outputs": [
    {
     "data": {
      "text/html": [
       "<div>\n",
       "<style scoped>\n",
       "    .dataframe tbody tr th:only-of-type {\n",
       "        vertical-align: middle;\n",
       "    }\n",
       "\n",
       "    .dataframe tbody tr th {\n",
       "        vertical-align: top;\n",
       "    }\n",
       "\n",
       "    .dataframe thead th {\n",
       "        text-align: right;\n",
       "    }\n",
       "</style>\n",
       "<table border=\"1\" class=\"dataframe\">\n",
       "  <thead>\n",
       "    <tr style=\"text-align: right;\">\n",
       "      <th></th>\n",
       "      <th>bldg</th>\n",
       "      <th>elec_kbtu_simulated</th>\n",
       "      <th>ng_kbtu_simulated</th>\n",
       "    </tr>\n",
       "  </thead>\n",
       "  <tbody>\n",
       "    <tr>\n",
       "      <th>0</th>\n",
       "      <td>Office_Abbey</td>\n",
       "      <td>4.110179e+06</td>\n",
       "      <td>171465.287482</td>\n",
       "    </tr>\n",
       "    <tr>\n",
       "      <th>1</th>\n",
       "      <td>Office_Abigail</td>\n",
       "      <td>5.816118e+05</td>\n",
       "      <td>40583.621250</td>\n",
       "    </tr>\n",
       "  </tbody>\n",
       "</table>\n",
       "</div>"
      ],
      "text/plain": [
       "             bldg  elec_kbtu_simulated  ng_kbtu_simulated\n",
       "0    Office_Abbey         4.110179e+06      171465.287482\n",
       "1  Office_Abigail         5.816118e+05       40583.621250"
      ]
     },
     "execution_count": 63,
     "metadata": {},
     "output_type": "execute_result"
    }
   ],
   "source": [
    "allfiles = glob.glob(folder + \"./**/**/**/hourly_consumption_by_fuel_to_csv_report.csv\")\n",
    "summary_table = []\n",
    "for filename in allfiles:\n",
    "    \n",
    "    df = pd.read_csv(filename)\n",
    "    elec = df['Electricity'].sum()*0.000000277778*3.412 #J to kBtu\n",
    "    ng = df['Natural Gas'].sum()*0.000000277778*3.412 #J to kBtu\n",
    "        \n",
    "    summary_table.append([filename.split('\\\\')[1],elec,ng])\n",
    "    \n",
    "summary_table = pd.DataFrame(summary_table)\n",
    "summary_table.columns = ['bldg','elec_kbtu_simulated','ng_kbtu_simulated']\n",
    "summary_table"
   ]
  },
  {
   "cell_type": "code",
   "execution_count": null,
   "metadata": {},
   "outputs": [],
   "source": []
  }
 ],
 "metadata": {
  "kernelspec": {
   "display_name": "Python 3",
   "language": "python",
   "name": "python3"
  },
  "language_info": {
   "codemirror_mode": {
    "name": "ipython",
    "version": 3
   },
   "file_extension": ".py",
   "mimetype": "text/x-python",
   "name": "python",
   "nbconvert_exporter": "python",
   "pygments_lexer": "ipython3",
   "version": "3.7.3"
  }
 },
 "nbformat": 4,
 "nbformat_minor": 2
}
