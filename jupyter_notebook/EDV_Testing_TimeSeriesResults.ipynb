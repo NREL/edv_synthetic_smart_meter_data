{
 "cells": [
  {
   "cell_type": "code",
   "execution_count": null,
   "id": "c8a992a9",
   "metadata": {},
   "outputs": [],
   "source": [
    "import pandas as pd\n",
    "import plotly.graph_objects as go\n",
    "from plotly.subplots import make_subplots\n",
    "import plotly.express as px\n",
    "import glob"
   ]
  },
  {
   "cell_type": "code",
   "execution_count": null,
   "id": "720dffd0",
   "metadata": {},
   "outputs": [],
   "source": [
    "folder = '../workflow_results/Simulation_Files'"
   ]
  },
  {
   "cell_type": "code",
   "execution_count": null,
   "id": "233c3425",
   "metadata": {},
   "outputs": [],
   "source": [
    "list_files = glob.glob(folder+\"/**/**/**/report.csv\")\n",
    "list_files = pd.DataFrame(list_files)\n",
    "list_bldg = list_files.iloc[:,0].str.split(folder, expand=True).iloc[:,1].str.split(\"Baseline\",expand=True).iloc[:,0].str.replace(\"\\\\\",\"\").tolist()\n",
    "list_bldg"
   ]
  },
  {
   "cell_type": "code",
   "execution_count": null,
   "id": "d839c3e3",
   "metadata": {},
   "outputs": [],
   "source": [
    "dict_monthgroup = {\n",
    "    'Summer':[6, 7, 8],\n",
    "    'Winter':[12, 1, 2],\n",
    "    'Shoulder':[3, 4, 5, 9, 10, 11]\n",
    "}"
   ]
  },
  {
   "cell_type": "code",
   "execution_count": null,
   "id": "edb51a25",
   "metadata": {},
   "outputs": [],
   "source": [
    "list_ov = ['Electricity', 'Natural Gas']"
   ]
  },
  {
   "cell_type": "code",
   "execution_count": null,
   "id": "2edc1995",
   "metadata": {},
   "outputs": [],
   "source": [
    "datestart = '2019-01-01 00:00:00'\n",
    "dateend = '2019-12-31 23:00:00'\n",
    "\n",
    "df_combined = pd.DataFrame([])\n",
    "df_combined['reading_time'] = pd.date_range(datestart, dateend, freq='60T')\n",
    "df_combined = df_combined.set_index(['reading_time'])"
   ]
  },
  {
   "cell_type": "code",
   "execution_count": null,
   "id": "af1307d3",
   "metadata": {
    "scrolled": true
   },
   "outputs": [],
   "source": [
    "for energy in list_ov:\n",
    "\n",
    "    for bldg in list_bldg:\n",
    "\n",
    "        print(\"processing bldg {}\".format(bldg))\n",
    "\n",
    "        list_files = glob.glob(folder + '/' + bldg + '/' + \"/Baseline/*HourlyConsumptionByFuelToCSV/report.csv\")        \n",
    "        df = pd.read_csv(list_files[0])\n",
    "        df_combined[str(bldg)+\"_\"+energy] = df[energy].values\n"
   ]
  },
  {
   "cell_type": "code",
   "execution_count": null,
   "id": "f039e223",
   "metadata": {},
   "outputs": [],
   "source": [
    "df_combined"
   ]
  },
  {
   "cell_type": "code",
   "execution_count": null,
   "id": "6ed5e5cd",
   "metadata": {},
   "outputs": [],
   "source": [
    "for energy in list_ov:\n",
    "    \n",
    "    fig = make_subplots(\n",
    "        rows=len(list_ov), \n",
    "        cols=len(dict_monthgroup), \n",
    "        vertical_spacing=0.1,\n",
    "        shared_yaxes=True\n",
    "    )\n",
    "\n",
    "    # select from https://plotly.com/python/discrete-color/\n",
    "    colorscale = px.colors.qualitative.Dark2\n",
    "    count_color = 0\n",
    "        \n",
    "    filetolook = 'report.csv'\n",
    "\n",
    "    df_temp = df_combined.loc[:, df_combined.columns.str.contains(energy)].copy()\n",
    "    df_temp = df_temp.sum(axis=1).to_frame()\n",
    "    df_temp.columns = [energy] # unit in Joules\n",
    "    df_temp[energy] = df_temp[energy] * 2.77778e-7 # converting to kWh (or kW if hourly data)\n",
    "\n",
    "    for idx, daytype in enumerate(['Weekday','Weekend']):\n",
    "\n",
    "        if daytype=='Weekday':\n",
    "            list_value = [0,1,2,3,4]\n",
    "        elif daytype=='Weekend':\n",
    "            list_value = [5,6]\n",
    "\n",
    "        df_daytype = df_temp.loc[df_temp.index.weekday.isin(list_value), :].copy()\n",
    "\n",
    "        pos_ssn = 1\n",
    "        for ssn in dict_monthgroup:\n",
    "\n",
    "            df_ssn = df_daytype.loc[df_daytype.index.month.isin(dict_monthgroup[ssn]),:].copy()\n",
    "            df_ssn.loc[:, 'HourOfDay'] = df_ssn.index.hour\n",
    "            df_ssn.loc[:, 'Date'] = df_ssn.index.date\n",
    "            df_ssn = df_ssn.pivot_table(index='HourOfDay',columns='Date',values=energy)\n",
    "\n",
    "            # average\n",
    "            fig.add_trace(go.Scatter(\n",
    "                x=df_ssn.index,\n",
    "                y=df_ssn.mean(axis=1),\n",
    "                name=energy,\n",
    "                opacity=0.7,\n",
    "                line = dict(\n",
    "                    color=colorscale[count_color], \n",
    "                    width=2, \n",
    "                ),\n",
    "                legendgroup=energy,\n",
    "                showlegend=False\n",
    "            ),row=idx+1, col=pos_ssn)\n",
    "\n",
    "            # upperbound\n",
    "            fig.add_trace(go.Scatter(\n",
    "                x=df_ssn.index,\n",
    "                y=df_ssn.max(axis=1),\n",
    "                name=energy,\n",
    "                opacity=0.7,\n",
    "                line = dict(\n",
    "                    width=0, \n",
    "                ),\n",
    "                legendgroup=energy,\n",
    "                showlegend=False\n",
    "            ),row=idx+1, col=pos_ssn)\n",
    "\n",
    "            # lowerbound\n",
    "            fig.add_trace(go.Scatter(\n",
    "                x=df_ssn.index,\n",
    "                y=df_ssn.min(axis=1),\n",
    "                name=energy,\n",
    "                opacity=0.7,\n",
    "                line = dict(\n",
    "                    width=0, \n",
    "                ),\n",
    "                fillcolor='rgba(68, 68, 68, 0.3)',\n",
    "                fill='tonexty',\n",
    "                legendgroup=energy,\n",
    "                showlegend=False\n",
    "            ),row=idx+1, col=pos_ssn)\n",
    "\n",
    "            fig.update_yaxes(\n",
    "                title=energy + \" [kW]\" + f\"<br><sub>{daytype}</sub>\",\n",
    "                row=idx+1,\n",
    "                col=1\n",
    "            )\n",
    "            \n",
    "            fig.update_xaxes(\n",
    "                title=ssn,\n",
    "                row=len(list_ov),\n",
    "                col=pos_ssn,\n",
    "            )\n",
    "\n",
    "            pos_ssn+=1\n",
    "\n",
    "    fig.update_layout(\n",
    "        title=\"Daily load profiles\",\n",
    "        width=900,\n",
    "        height=350,\n",
    "        margin=dict(\n",
    "            l=100,\n",
    "            r=50,\n",
    "            t=50,\n",
    "            b=50\n",
    "        ),\n",
    "        plot_bgcolor='rgb(242,242,242)',\n",
    "    )\n",
    "    \n",
    "    fig.show()"
   ]
  },
  {
   "cell_type": "code",
   "execution_count": null,
   "id": "c74951e4",
   "metadata": {},
   "outputs": [],
   "source": []
  },
  {
   "cell_type": "code",
   "execution_count": null,
   "id": "89736848",
   "metadata": {},
   "outputs": [],
   "source": []
  },
  {
   "cell_type": "code",
   "execution_count": null,
   "id": "b86dc2f0",
   "metadata": {},
   "outputs": [],
   "source": []
  }
 ],
 "metadata": {
  "kernelspec": {
   "display_name": "Python 3",
   "language": "python",
   "name": "python3"
  },
  "language_info": {
   "codemirror_mode": {
    "name": "ipython",
    "version": 3
   },
   "file_extension": ".py",
   "mimetype": "text/x-python",
   "name": "python",
   "nbconvert_exporter": "python",
   "pygments_lexer": "ipython3",
   "version": "3.8.8"
  }
 },
 "nbformat": 4,
 "nbformat_minor": 5
}
