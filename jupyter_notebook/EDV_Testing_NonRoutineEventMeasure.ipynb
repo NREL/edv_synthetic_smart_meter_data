{
 "cells": [
  {
   "cell_type": "code",
   "execution_count": 27,
   "metadata": {},
   "outputs": [],
   "source": [
    "import pandas as pd\n",
    "import glob\n",
    "import plotly.graph_objects as go"
   ]
  },
  {
   "cell_type": "markdown",
   "metadata": {},
   "source": [
    "# =====================================\n",
    "# FILE LOCATIONS"
   ]
  },
  {
   "cell_type": "code",
   "execution_count": 2,
   "metadata": {},
   "outputs": [],
   "source": [
    "folder = \"C:/Users/JKIM4/Box Sync/Project Files/4 EDV/200527_testing_NonRoutineEventMeasure\""
   ]
  },
  {
   "cell_type": "code",
   "execution_count": 78,
   "metadata": {},
   "outputs": [],
   "source": [
    "Baseline_woOccVar = folder + \"/eplustbl_baseline_wooccvar.htm\"\n",
    "Baseline_wOccVar = folder + \"/eplustbl_baseline_woccvar.htm\"\n",
    "DR_GTA_woOccVar = folder + \"/eplustbl_dr_gta_wooccvar.htm\"\n",
    "DR_GTA_wOccVar = folder + \"/eplustbl_dr_gta_woccvar.htm\"\n",
    "DR_Lighting_woOccVar = folder + \"/eplustbl_dr_lighting_wooccvar.htm\"\n",
    "DR_Lighting_wOccVar = folder + \"/eplustbl_dr_lighting_woccvar.htm\"\n",
    "Retrofit_Equip_woOccVar = folder + \"/eplustbl_retrofit_equipment_wooccvar.htm\"\n",
    "Retrofit_Equip_wOccVar = folder + \"/eplustbl_retrofit_equipment_woccvar.htm\""
   ]
  },
  {
   "cell_type": "code",
   "execution_count": 79,
   "metadata": {},
   "outputs": [
    {
     "data": {
      "text/plain": [
       "['C:/Users/JKIM4/Box Sync/Project Files/4 EDV/200527_testing_NonRoutineEventMeasure/eplustbl_baseline_wooccvar.htm',\n",
       " 'C:/Users/JKIM4/Box Sync/Project Files/4 EDV/200527_testing_NonRoutineEventMeasure/eplustbl_baseline_woccvar.htm',\n",
       " 'C:/Users/JKIM4/Box Sync/Project Files/4 EDV/200527_testing_NonRoutineEventMeasure/eplustbl_dr_gta_wooccvar.htm',\n",
       " 'C:/Users/JKIM4/Box Sync/Project Files/4 EDV/200527_testing_NonRoutineEventMeasure/eplustbl_dr_gta_woccvar.htm',\n",
       " 'C:/Users/JKIM4/Box Sync/Project Files/4 EDV/200527_testing_NonRoutineEventMeasure/eplustbl_dr_lighting_wooccvar.htm',\n",
       " 'C:/Users/JKIM4/Box Sync/Project Files/4 EDV/200527_testing_NonRoutineEventMeasure/eplustbl_dr_lighting_woccvar.htm',\n",
       " 'C:/Users/JKIM4/Box Sync/Project Files/4 EDV/200527_testing_NonRoutineEventMeasure/eplustbl_retrofit_equipment_wooccvar.htm',\n",
       " 'C:/Users/JKIM4/Box Sync/Project Files/4 EDV/200527_testing_NonRoutineEventMeasure/eplustbl_retrofit_equipment_woccvar.htm']"
      ]
     },
     "execution_count": 79,
     "metadata": {},
     "output_type": "execute_result"
    }
   ],
   "source": [
    "sceanrios = [\n",
    "    Baseline_woOccVar,\n",
    "    Baseline_wOccVar,\n",
    "    DR_GTA_woOccVar,\n",
    "    DR_GTA_wOccVar,\n",
    "    DR_Lighting_woOccVar,\n",
    "    DR_Lighting_wOccVar,\n",
    "    Retrofit_Equip_woOccVar,\n",
    "    Retrofit_Equip_wOccVar\n",
    "]\n",
    "sceanrios"
   ]
  },
  {
   "cell_type": "markdown",
   "metadata": {},
   "source": [
    "# =====================================\n",
    "# READ/SUMMARIZE SIMULATED RESULTS BETWEEN SCENARIOS"
   ]
  },
  {
   "cell_type": "code",
   "execution_count": 82,
   "metadata": {
    "scrolled": false
   },
   "outputs": [
    {
     "name": "stdout",
     "output_type": "stream",
     "text": [
      "C:/Users/JKIM4/Box Sync/Project Files/4 EDV/200527_testing_NonRoutineEventMeasure/eplustbl_baseline_wooccvar.htm\n",
      "C:/Users/JKIM4/Box Sync/Project Files/4 EDV/200527_testing_NonRoutineEventMeasure/eplustbl_baseline_woccvar.htm\n",
      "C:/Users/JKIM4/Box Sync/Project Files/4 EDV/200527_testing_NonRoutineEventMeasure/eplustbl_dr_gta_wooccvar.htm\n",
      "C:/Users/JKIM4/Box Sync/Project Files/4 EDV/200527_testing_NonRoutineEventMeasure/eplustbl_dr_gta_woccvar.htm\n",
      "C:/Users/JKIM4/Box Sync/Project Files/4 EDV/200527_testing_NonRoutineEventMeasure/eplustbl_dr_lighting_wooccvar.htm\n",
      "C:/Users/JKIM4/Box Sync/Project Files/4 EDV/200527_testing_NonRoutineEventMeasure/eplustbl_dr_lighting_woccvar.htm\n",
      "C:/Users/JKIM4/Box Sync/Project Files/4 EDV/200527_testing_NonRoutineEventMeasure/eplustbl_retrofit_equipment_wooccvar.htm\n",
      "C:/Users/JKIM4/Box Sync/Project Files/4 EDV/200527_testing_NonRoutineEventMeasure/eplustbl_retrofit_equipment_woccvar.htm\n"
     ]
    },
    {
     "data": {
      "application/vnd.plotly.v1+json": {
       "config": {
        "plotlyServerURL": "https://plot.ly"
       },
       "data": [
        {
         "name": "Heating",
         "type": "bar",
         "x": [
          "baseline_wooccvar",
          "baseline_woccvar",
          "dr_gta_wooccvar",
          "dr_gta_woccvar",
          "dr_lighting_wooccvar",
          "dr_lighting_woccvar",
          "retrofit_equipment_wooccvar",
          "retrofit_equipment_woccvar"
         ],
         "y": [
          "66.46",
          "63.64",
          "44.37",
          "85.56",
          "67.10",
          "83.04",
          "59.80",
          "96.10"
         ]
        },
        {
         "name": "Cooling",
         "type": "bar",
         "x": [
          "baseline_wooccvar",
          "baseline_woccvar",
          "dr_gta_wooccvar",
          "dr_gta_woccvar",
          "dr_lighting_wooccvar",
          "dr_lighting_woccvar",
          "retrofit_equipment_wooccvar",
          "retrofit_equipment_woccvar"
         ],
         "y": [
          "0.00",
          "0.00",
          "0.00",
          "0.00",
          "0.00",
          "0.00",
          "0.00",
          "0.00"
         ]
        },
        {
         "name": "Interior Lighting",
         "type": "bar",
         "x": [
          "baseline_wooccvar",
          "baseline_woccvar",
          "dr_gta_wooccvar",
          "dr_gta_woccvar",
          "dr_lighting_wooccvar",
          "dr_lighting_woccvar",
          "retrofit_equipment_wooccvar",
          "retrofit_equipment_woccvar"
         ],
         "y": [
          "0.00",
          "0.00",
          "0.00",
          "0.00",
          "0.00",
          "0.00",
          "0.00",
          "0.00"
         ]
        },
        {
         "name": "Exterior Lighting",
         "type": "bar",
         "x": [
          "baseline_wooccvar",
          "baseline_woccvar",
          "dr_gta_wooccvar",
          "dr_gta_woccvar",
          "dr_lighting_wooccvar",
          "dr_lighting_woccvar",
          "retrofit_equipment_wooccvar",
          "retrofit_equipment_woccvar"
         ],
         "y": [
          "0.00",
          "0.00",
          "0.00",
          "0.00",
          "0.00",
          "0.00",
          "0.00",
          "0.00"
         ]
        },
        {
         "name": "Interior Equipment",
         "type": "bar",
         "x": [
          "baseline_wooccvar",
          "baseline_woccvar",
          "dr_gta_wooccvar",
          "dr_gta_woccvar",
          "dr_lighting_wooccvar",
          "dr_lighting_woccvar",
          "retrofit_equipment_wooccvar",
          "retrofit_equipment_woccvar"
         ],
         "y": [
          "0.00",
          "0.00",
          "0.00",
          "0.00",
          "0.00",
          "0.00",
          "0.00",
          "0.00"
         ]
        },
        {
         "name": "Exterior Equipment",
         "type": "bar",
         "x": [
          "baseline_wooccvar",
          "baseline_woccvar",
          "dr_gta_wooccvar",
          "dr_gta_woccvar",
          "dr_lighting_wooccvar",
          "dr_lighting_woccvar",
          "retrofit_equipment_wooccvar",
          "retrofit_equipment_woccvar"
         ],
         "y": [
          "0.00",
          "0.00",
          "0.00",
          "0.00",
          "0.00",
          "0.00",
          "0.00",
          "0.00"
         ]
        },
        {
         "name": "Fans",
         "type": "bar",
         "x": [
          "baseline_wooccvar",
          "baseline_woccvar",
          "dr_gta_wooccvar",
          "dr_gta_woccvar",
          "dr_lighting_wooccvar",
          "dr_lighting_woccvar",
          "retrofit_equipment_wooccvar",
          "retrofit_equipment_woccvar"
         ],
         "y": [
          "0.00",
          "0.00",
          "0.00",
          "0.00",
          "0.00",
          "0.00",
          "0.00",
          "0.00"
         ]
        },
        {
         "name": "Pumps",
         "type": "bar",
         "x": [
          "baseline_wooccvar",
          "baseline_woccvar",
          "dr_gta_wooccvar",
          "dr_gta_woccvar",
          "dr_lighting_wooccvar",
          "dr_lighting_woccvar",
          "retrofit_equipment_wooccvar",
          "retrofit_equipment_woccvar"
         ],
         "y": [
          "0.00",
          "0.00",
          "0.00",
          "0.00",
          "0.00",
          "0.00",
          "0.00",
          "0.00"
         ]
        },
        {
         "name": "Heat Rejection",
         "type": "bar",
         "x": [
          "baseline_wooccvar",
          "baseline_woccvar",
          "dr_gta_wooccvar",
          "dr_gta_woccvar",
          "dr_lighting_wooccvar",
          "dr_lighting_woccvar",
          "retrofit_equipment_wooccvar",
          "retrofit_equipment_woccvar"
         ],
         "y": [
          "0.00",
          "0.00",
          "0.00",
          "0.00",
          "0.00",
          "0.00",
          "0.00",
          "0.00"
         ]
        },
        {
         "name": "Humidification",
         "type": "bar",
         "x": [
          "baseline_wooccvar",
          "baseline_woccvar",
          "dr_gta_wooccvar",
          "dr_gta_woccvar",
          "dr_lighting_wooccvar",
          "dr_lighting_woccvar",
          "retrofit_equipment_wooccvar",
          "retrofit_equipment_woccvar"
         ],
         "y": [
          "0.00",
          "0.00",
          "0.00",
          "0.00",
          "0.00",
          "0.00",
          "0.00",
          "0.00"
         ]
        },
        {
         "name": "Heat Recovery",
         "type": "bar",
         "x": [
          "baseline_wooccvar",
          "baseline_woccvar",
          "dr_gta_wooccvar",
          "dr_gta_woccvar",
          "dr_lighting_wooccvar",
          "dr_lighting_woccvar",
          "retrofit_equipment_wooccvar",
          "retrofit_equipment_woccvar"
         ],
         "y": [
          "0.00",
          "0.00",
          "0.00",
          "0.00",
          "0.00",
          "0.00",
          "0.00",
          "0.00"
         ]
        },
        {
         "name": "Water Systems",
         "type": "bar",
         "x": [
          "baseline_wooccvar",
          "baseline_woccvar",
          "dr_gta_wooccvar",
          "dr_gta_woccvar",
          "dr_lighting_wooccvar",
          "dr_lighting_woccvar",
          "retrofit_equipment_wooccvar",
          "retrofit_equipment_woccvar"
         ],
         "y": [
          "113.21",
          "113.21",
          "113.21",
          "113.21",
          "113.21",
          "113.22",
          "113.22",
          "113.21"
         ]
        },
        {
         "name": "Refrigeration",
         "type": "bar",
         "x": [
          "baseline_wooccvar",
          "baseline_woccvar",
          "dr_gta_wooccvar",
          "dr_gta_woccvar",
          "dr_lighting_wooccvar",
          "dr_lighting_woccvar",
          "retrofit_equipment_wooccvar",
          "retrofit_equipment_woccvar"
         ],
         "y": [
          "0.00",
          "0.00",
          "0.00",
          "0.00",
          "0.00",
          "0.00",
          "0.00",
          "0.00"
         ]
        },
        {
         "name": "Generators",
         "type": "bar",
         "x": [
          "baseline_wooccvar",
          "baseline_woccvar",
          "dr_gta_wooccvar",
          "dr_gta_woccvar",
          "dr_lighting_wooccvar",
          "dr_lighting_woccvar",
          "retrofit_equipment_wooccvar",
          "retrofit_equipment_woccvar"
         ],
         "y": [
          "0.00",
          "0.00",
          "0.00",
          "0.00",
          "0.00",
          "0.00",
          "0.00",
          "0.00"
         ]
        }
       ],
       "layout": {
        "barmode": "stack",
        "height": 400,
        "margin": {
         "b": 0,
         "l": 0,
         "r": 0,
         "t": 0
        },
        "plot_bgcolor": "white",
        "showlegend": true,
        "template": {
         "data": {
          "bar": [
           {
            "error_x": {
             "color": "#2a3f5f"
            },
            "error_y": {
             "color": "#2a3f5f"
            },
            "marker": {
             "line": {
              "color": "#E5ECF6",
              "width": 0.5
             }
            },
            "type": "bar"
           }
          ],
          "barpolar": [
           {
            "marker": {
             "line": {
              "color": "#E5ECF6",
              "width": 0.5
             }
            },
            "type": "barpolar"
           }
          ],
          "carpet": [
           {
            "aaxis": {
             "endlinecolor": "#2a3f5f",
             "gridcolor": "white",
             "linecolor": "white",
             "minorgridcolor": "white",
             "startlinecolor": "#2a3f5f"
            },
            "baxis": {
             "endlinecolor": "#2a3f5f",
             "gridcolor": "white",
             "linecolor": "white",
             "minorgridcolor": "white",
             "startlinecolor": "#2a3f5f"
            },
            "type": "carpet"
           }
          ],
          "choropleth": [
           {
            "colorbar": {
             "outlinewidth": 0,
             "ticks": ""
            },
            "type": "choropleth"
           }
          ],
          "contour": [
           {
            "colorbar": {
             "outlinewidth": 0,
             "ticks": ""
            },
            "colorscale": [
             [
              0,
              "#0d0887"
             ],
             [
              0.1111111111111111,
              "#46039f"
             ],
             [
              0.2222222222222222,
              "#7201a8"
             ],
             [
              0.3333333333333333,
              "#9c179e"
             ],
             [
              0.4444444444444444,
              "#bd3786"
             ],
             [
              0.5555555555555556,
              "#d8576b"
             ],
             [
              0.6666666666666666,
              "#ed7953"
             ],
             [
              0.7777777777777778,
              "#fb9f3a"
             ],
             [
              0.8888888888888888,
              "#fdca26"
             ],
             [
              1,
              "#f0f921"
             ]
            ],
            "type": "contour"
           }
          ],
          "contourcarpet": [
           {
            "colorbar": {
             "outlinewidth": 0,
             "ticks": ""
            },
            "type": "contourcarpet"
           }
          ],
          "heatmap": [
           {
            "colorbar": {
             "outlinewidth": 0,
             "ticks": ""
            },
            "colorscale": [
             [
              0,
              "#0d0887"
             ],
             [
              0.1111111111111111,
              "#46039f"
             ],
             [
              0.2222222222222222,
              "#7201a8"
             ],
             [
              0.3333333333333333,
              "#9c179e"
             ],
             [
              0.4444444444444444,
              "#bd3786"
             ],
             [
              0.5555555555555556,
              "#d8576b"
             ],
             [
              0.6666666666666666,
              "#ed7953"
             ],
             [
              0.7777777777777778,
              "#fb9f3a"
             ],
             [
              0.8888888888888888,
              "#fdca26"
             ],
             [
              1,
              "#f0f921"
             ]
            ],
            "type": "heatmap"
           }
          ],
          "heatmapgl": [
           {
            "colorbar": {
             "outlinewidth": 0,
             "ticks": ""
            },
            "colorscale": [
             [
              0,
              "#0d0887"
             ],
             [
              0.1111111111111111,
              "#46039f"
             ],
             [
              0.2222222222222222,
              "#7201a8"
             ],
             [
              0.3333333333333333,
              "#9c179e"
             ],
             [
              0.4444444444444444,
              "#bd3786"
             ],
             [
              0.5555555555555556,
              "#d8576b"
             ],
             [
              0.6666666666666666,
              "#ed7953"
             ],
             [
              0.7777777777777778,
              "#fb9f3a"
             ],
             [
              0.8888888888888888,
              "#fdca26"
             ],
             [
              1,
              "#f0f921"
             ]
            ],
            "type": "heatmapgl"
           }
          ],
          "histogram": [
           {
            "marker": {
             "colorbar": {
              "outlinewidth": 0,
              "ticks": ""
             }
            },
            "type": "histogram"
           }
          ],
          "histogram2d": [
           {
            "colorbar": {
             "outlinewidth": 0,
             "ticks": ""
            },
            "colorscale": [
             [
              0,
              "#0d0887"
             ],
             [
              0.1111111111111111,
              "#46039f"
             ],
             [
              0.2222222222222222,
              "#7201a8"
             ],
             [
              0.3333333333333333,
              "#9c179e"
             ],
             [
              0.4444444444444444,
              "#bd3786"
             ],
             [
              0.5555555555555556,
              "#d8576b"
             ],
             [
              0.6666666666666666,
              "#ed7953"
             ],
             [
              0.7777777777777778,
              "#fb9f3a"
             ],
             [
              0.8888888888888888,
              "#fdca26"
             ],
             [
              1,
              "#f0f921"
             ]
            ],
            "type": "histogram2d"
           }
          ],
          "histogram2dcontour": [
           {
            "colorbar": {
             "outlinewidth": 0,
             "ticks": ""
            },
            "colorscale": [
             [
              0,
              "#0d0887"
             ],
             [
              0.1111111111111111,
              "#46039f"
             ],
             [
              0.2222222222222222,
              "#7201a8"
             ],
             [
              0.3333333333333333,
              "#9c179e"
             ],
             [
              0.4444444444444444,
              "#bd3786"
             ],
             [
              0.5555555555555556,
              "#d8576b"
             ],
             [
              0.6666666666666666,
              "#ed7953"
             ],
             [
              0.7777777777777778,
              "#fb9f3a"
             ],
             [
              0.8888888888888888,
              "#fdca26"
             ],
             [
              1,
              "#f0f921"
             ]
            ],
            "type": "histogram2dcontour"
           }
          ],
          "mesh3d": [
           {
            "colorbar": {
             "outlinewidth": 0,
             "ticks": ""
            },
            "type": "mesh3d"
           }
          ],
          "parcoords": [
           {
            "line": {
             "colorbar": {
              "outlinewidth": 0,
              "ticks": ""
             }
            },
            "type": "parcoords"
           }
          ],
          "pie": [
           {
            "automargin": true,
            "type": "pie"
           }
          ],
          "scatter": [
           {
            "marker": {
             "colorbar": {
              "outlinewidth": 0,
              "ticks": ""
             }
            },
            "type": "scatter"
           }
          ],
          "scatter3d": [
           {
            "line": {
             "colorbar": {
              "outlinewidth": 0,
              "ticks": ""
             }
            },
            "marker": {
             "colorbar": {
              "outlinewidth": 0,
              "ticks": ""
             }
            },
            "type": "scatter3d"
           }
          ],
          "scattercarpet": [
           {
            "marker": {
             "colorbar": {
              "outlinewidth": 0,
              "ticks": ""
             }
            },
            "type": "scattercarpet"
           }
          ],
          "scattergeo": [
           {
            "marker": {
             "colorbar": {
              "outlinewidth": 0,
              "ticks": ""
             }
            },
            "type": "scattergeo"
           }
          ],
          "scattergl": [
           {
            "marker": {
             "colorbar": {
              "outlinewidth": 0,
              "ticks": ""
             }
            },
            "type": "scattergl"
           }
          ],
          "scattermapbox": [
           {
            "marker": {
             "colorbar": {
              "outlinewidth": 0,
              "ticks": ""
             }
            },
            "type": "scattermapbox"
           }
          ],
          "scatterpolar": [
           {
            "marker": {
             "colorbar": {
              "outlinewidth": 0,
              "ticks": ""
             }
            },
            "type": "scatterpolar"
           }
          ],
          "scatterpolargl": [
           {
            "marker": {
             "colorbar": {
              "outlinewidth": 0,
              "ticks": ""
             }
            },
            "type": "scatterpolargl"
           }
          ],
          "scatterternary": [
           {
            "marker": {
             "colorbar": {
              "outlinewidth": 0,
              "ticks": ""
             }
            },
            "type": "scatterternary"
           }
          ],
          "surface": [
           {
            "colorbar": {
             "outlinewidth": 0,
             "ticks": ""
            },
            "colorscale": [
             [
              0,
              "#0d0887"
             ],
             [
              0.1111111111111111,
              "#46039f"
             ],
             [
              0.2222222222222222,
              "#7201a8"
             ],
             [
              0.3333333333333333,
              "#9c179e"
             ],
             [
              0.4444444444444444,
              "#bd3786"
             ],
             [
              0.5555555555555556,
              "#d8576b"
             ],
             [
              0.6666666666666666,
              "#ed7953"
             ],
             [
              0.7777777777777778,
              "#fb9f3a"
             ],
             [
              0.8888888888888888,
              "#fdca26"
             ],
             [
              1,
              "#f0f921"
             ]
            ],
            "type": "surface"
           }
          ],
          "table": [
           {
            "cells": {
             "fill": {
              "color": "#EBF0F8"
             },
             "line": {
              "color": "white"
             }
            },
            "header": {
             "fill": {
              "color": "#C8D4E3"
             },
             "line": {
              "color": "white"
             }
            },
            "type": "table"
           }
          ]
         },
         "layout": {
          "annotationdefaults": {
           "arrowcolor": "#2a3f5f",
           "arrowhead": 0,
           "arrowwidth": 1
          },
          "coloraxis": {
           "colorbar": {
            "outlinewidth": 0,
            "ticks": ""
           }
          },
          "colorscale": {
           "diverging": [
            [
             0,
             "#8e0152"
            ],
            [
             0.1,
             "#c51b7d"
            ],
            [
             0.2,
             "#de77ae"
            ],
            [
             0.3,
             "#f1b6da"
            ],
            [
             0.4,
             "#fde0ef"
            ],
            [
             0.5,
             "#f7f7f7"
            ],
            [
             0.6,
             "#e6f5d0"
            ],
            [
             0.7,
             "#b8e186"
            ],
            [
             0.8,
             "#7fbc41"
            ],
            [
             0.9,
             "#4d9221"
            ],
            [
             1,
             "#276419"
            ]
           ],
           "sequential": [
            [
             0,
             "#0d0887"
            ],
            [
             0.1111111111111111,
             "#46039f"
            ],
            [
             0.2222222222222222,
             "#7201a8"
            ],
            [
             0.3333333333333333,
             "#9c179e"
            ],
            [
             0.4444444444444444,
             "#bd3786"
            ],
            [
             0.5555555555555556,
             "#d8576b"
            ],
            [
             0.6666666666666666,
             "#ed7953"
            ],
            [
             0.7777777777777778,
             "#fb9f3a"
            ],
            [
             0.8888888888888888,
             "#fdca26"
            ],
            [
             1,
             "#f0f921"
            ]
           ],
           "sequentialminus": [
            [
             0,
             "#0d0887"
            ],
            [
             0.1111111111111111,
             "#46039f"
            ],
            [
             0.2222222222222222,
             "#7201a8"
            ],
            [
             0.3333333333333333,
             "#9c179e"
            ],
            [
             0.4444444444444444,
             "#bd3786"
            ],
            [
             0.5555555555555556,
             "#d8576b"
            ],
            [
             0.6666666666666666,
             "#ed7953"
            ],
            [
             0.7777777777777778,
             "#fb9f3a"
            ],
            [
             0.8888888888888888,
             "#fdca26"
            ],
            [
             1,
             "#f0f921"
            ]
           ]
          },
          "colorway": [
           "#636efa",
           "#EF553B",
           "#00cc96",
           "#ab63fa",
           "#FFA15A",
           "#19d3f3",
           "#FF6692",
           "#B6E880",
           "#FF97FF",
           "#FECB52"
          ],
          "font": {
           "color": "#2a3f5f"
          },
          "geo": {
           "bgcolor": "white",
           "lakecolor": "white",
           "landcolor": "#E5ECF6",
           "showlakes": true,
           "showland": true,
           "subunitcolor": "white"
          },
          "hoverlabel": {
           "align": "left"
          },
          "hovermode": "closest",
          "mapbox": {
           "style": "light"
          },
          "paper_bgcolor": "white",
          "plot_bgcolor": "#E5ECF6",
          "polar": {
           "angularaxis": {
            "gridcolor": "white",
            "linecolor": "white",
            "ticks": ""
           },
           "bgcolor": "#E5ECF6",
           "radialaxis": {
            "gridcolor": "white",
            "linecolor": "white",
            "ticks": ""
           }
          },
          "scene": {
           "xaxis": {
            "backgroundcolor": "#E5ECF6",
            "gridcolor": "white",
            "gridwidth": 2,
            "linecolor": "white",
            "showbackground": true,
            "ticks": "",
            "zerolinecolor": "white"
           },
           "yaxis": {
            "backgroundcolor": "#E5ECF6",
            "gridcolor": "white",
            "gridwidth": 2,
            "linecolor": "white",
            "showbackground": true,
            "ticks": "",
            "zerolinecolor": "white"
           },
           "zaxis": {
            "backgroundcolor": "#E5ECF6",
            "gridcolor": "white",
            "gridwidth": 2,
            "linecolor": "white",
            "showbackground": true,
            "ticks": "",
            "zerolinecolor": "white"
           }
          },
          "shapedefaults": {
           "line": {
            "color": "#2a3f5f"
           }
          },
          "ternary": {
           "aaxis": {
            "gridcolor": "white",
            "linecolor": "white",
            "ticks": ""
           },
           "baxis": {
            "gridcolor": "white",
            "linecolor": "white",
            "ticks": ""
           },
           "bgcolor": "#E5ECF6",
           "caxis": {
            "gridcolor": "white",
            "linecolor": "white",
            "ticks": ""
           }
          },
          "title": {
           "x": 0.05
          },
          "xaxis": {
           "automargin": true,
           "gridcolor": "white",
           "linecolor": "white",
           "ticks": "",
           "title": {
            "standoff": 15
           },
           "zerolinecolor": "white",
           "zerolinewidth": 2
          },
          "yaxis": {
           "automargin": true,
           "gridcolor": "white",
           "linecolor": "white",
           "ticks": "",
           "title": {
            "standoff": 15
           },
           "zerolinecolor": "white",
           "zerolinewidth": 2
          }
         }
        },
        "width": 800,
        "yaxis": {
         "title": {
          "font": {
           "size": 14
          },
          "text": "Natural Gas [GJ]"
         }
        }
       }
      },
      "text/html": [
       "<div>\n",
       "        \n",
       "        \n",
       "            <div id=\"e2b3c917-edac-46f0-bd44-48259a2d01e8\" class=\"plotly-graph-div\" style=\"height:400px; width:800px;\"></div>\n",
       "            <script type=\"text/javascript\">\n",
       "                require([\"plotly\"], function(Plotly) {\n",
       "                    window.PLOTLYENV=window.PLOTLYENV || {};\n",
       "                    \n",
       "                if (document.getElementById(\"e2b3c917-edac-46f0-bd44-48259a2d01e8\")) {\n",
       "                    Plotly.newPlot(\n",
       "                        'e2b3c917-edac-46f0-bd44-48259a2d01e8',\n",
       "                        [{\"name\": \"Heating\", \"type\": \"bar\", \"x\": [\"baseline_wooccvar\", \"baseline_woccvar\", \"dr_gta_wooccvar\", \"dr_gta_woccvar\", \"dr_lighting_wooccvar\", \"dr_lighting_woccvar\", \"retrofit_equipment_wooccvar\", \"retrofit_equipment_woccvar\"], \"y\": [\"66.46\", \"63.64\", \"44.37\", \"85.56\", \"67.10\", \"83.04\", \"59.80\", \"96.10\"]}, {\"name\": \"Cooling\", \"type\": \"bar\", \"x\": [\"baseline_wooccvar\", \"baseline_woccvar\", \"dr_gta_wooccvar\", \"dr_gta_woccvar\", \"dr_lighting_wooccvar\", \"dr_lighting_woccvar\", \"retrofit_equipment_wooccvar\", \"retrofit_equipment_woccvar\"], \"y\": [\"0.00\", \"0.00\", \"0.00\", \"0.00\", \"0.00\", \"0.00\", \"0.00\", \"0.00\"]}, {\"name\": \"Interior Lighting\", \"type\": \"bar\", \"x\": [\"baseline_wooccvar\", \"baseline_woccvar\", \"dr_gta_wooccvar\", \"dr_gta_woccvar\", \"dr_lighting_wooccvar\", \"dr_lighting_woccvar\", \"retrofit_equipment_wooccvar\", \"retrofit_equipment_woccvar\"], \"y\": [\"0.00\", \"0.00\", \"0.00\", \"0.00\", \"0.00\", \"0.00\", \"0.00\", \"0.00\"]}, {\"name\": \"Exterior Lighting\", \"type\": \"bar\", \"x\": [\"baseline_wooccvar\", \"baseline_woccvar\", \"dr_gta_wooccvar\", \"dr_gta_woccvar\", \"dr_lighting_wooccvar\", \"dr_lighting_woccvar\", \"retrofit_equipment_wooccvar\", \"retrofit_equipment_woccvar\"], \"y\": [\"0.00\", \"0.00\", \"0.00\", \"0.00\", \"0.00\", \"0.00\", \"0.00\", \"0.00\"]}, {\"name\": \"Interior Equipment\", \"type\": \"bar\", \"x\": [\"baseline_wooccvar\", \"baseline_woccvar\", \"dr_gta_wooccvar\", \"dr_gta_woccvar\", \"dr_lighting_wooccvar\", \"dr_lighting_woccvar\", \"retrofit_equipment_wooccvar\", \"retrofit_equipment_woccvar\"], \"y\": [\"0.00\", \"0.00\", \"0.00\", \"0.00\", \"0.00\", \"0.00\", \"0.00\", \"0.00\"]}, {\"name\": \"Exterior Equipment\", \"type\": \"bar\", \"x\": [\"baseline_wooccvar\", \"baseline_woccvar\", \"dr_gta_wooccvar\", \"dr_gta_woccvar\", \"dr_lighting_wooccvar\", \"dr_lighting_woccvar\", \"retrofit_equipment_wooccvar\", \"retrofit_equipment_woccvar\"], \"y\": [\"0.00\", \"0.00\", \"0.00\", \"0.00\", \"0.00\", \"0.00\", \"0.00\", \"0.00\"]}, {\"name\": \"Fans\", \"type\": \"bar\", \"x\": [\"baseline_wooccvar\", \"baseline_woccvar\", \"dr_gta_wooccvar\", \"dr_gta_woccvar\", \"dr_lighting_wooccvar\", \"dr_lighting_woccvar\", \"retrofit_equipment_wooccvar\", \"retrofit_equipment_woccvar\"], \"y\": [\"0.00\", \"0.00\", \"0.00\", \"0.00\", \"0.00\", \"0.00\", \"0.00\", \"0.00\"]}, {\"name\": \"Pumps\", \"type\": \"bar\", \"x\": [\"baseline_wooccvar\", \"baseline_woccvar\", \"dr_gta_wooccvar\", \"dr_gta_woccvar\", \"dr_lighting_wooccvar\", \"dr_lighting_woccvar\", \"retrofit_equipment_wooccvar\", \"retrofit_equipment_woccvar\"], \"y\": [\"0.00\", \"0.00\", \"0.00\", \"0.00\", \"0.00\", \"0.00\", \"0.00\", \"0.00\"]}, {\"name\": \"Heat Rejection\", \"type\": \"bar\", \"x\": [\"baseline_wooccvar\", \"baseline_woccvar\", \"dr_gta_wooccvar\", \"dr_gta_woccvar\", \"dr_lighting_wooccvar\", \"dr_lighting_woccvar\", \"retrofit_equipment_wooccvar\", \"retrofit_equipment_woccvar\"], \"y\": [\"0.00\", \"0.00\", \"0.00\", \"0.00\", \"0.00\", \"0.00\", \"0.00\", \"0.00\"]}, {\"name\": \"Humidification\", \"type\": \"bar\", \"x\": [\"baseline_wooccvar\", \"baseline_woccvar\", \"dr_gta_wooccvar\", \"dr_gta_woccvar\", \"dr_lighting_wooccvar\", \"dr_lighting_woccvar\", \"retrofit_equipment_wooccvar\", \"retrofit_equipment_woccvar\"], \"y\": [\"0.00\", \"0.00\", \"0.00\", \"0.00\", \"0.00\", \"0.00\", \"0.00\", \"0.00\"]}, {\"name\": \"Heat Recovery\", \"type\": \"bar\", \"x\": [\"baseline_wooccvar\", \"baseline_woccvar\", \"dr_gta_wooccvar\", \"dr_gta_woccvar\", \"dr_lighting_wooccvar\", \"dr_lighting_woccvar\", \"retrofit_equipment_wooccvar\", \"retrofit_equipment_woccvar\"], \"y\": [\"0.00\", \"0.00\", \"0.00\", \"0.00\", \"0.00\", \"0.00\", \"0.00\", \"0.00\"]}, {\"name\": \"Water Systems\", \"type\": \"bar\", \"x\": [\"baseline_wooccvar\", \"baseline_woccvar\", \"dr_gta_wooccvar\", \"dr_gta_woccvar\", \"dr_lighting_wooccvar\", \"dr_lighting_woccvar\", \"retrofit_equipment_wooccvar\", \"retrofit_equipment_woccvar\"], \"y\": [\"113.21\", \"113.21\", \"113.21\", \"113.21\", \"113.21\", \"113.22\", \"113.22\", \"113.21\"]}, {\"name\": \"Refrigeration\", \"type\": \"bar\", \"x\": [\"baseline_wooccvar\", \"baseline_woccvar\", \"dr_gta_wooccvar\", \"dr_gta_woccvar\", \"dr_lighting_wooccvar\", \"dr_lighting_woccvar\", \"retrofit_equipment_wooccvar\", \"retrofit_equipment_woccvar\"], \"y\": [\"0.00\", \"0.00\", \"0.00\", \"0.00\", \"0.00\", \"0.00\", \"0.00\", \"0.00\"]}, {\"name\": \"Generators\", \"type\": \"bar\", \"x\": [\"baseline_wooccvar\", \"baseline_woccvar\", \"dr_gta_wooccvar\", \"dr_gta_woccvar\", \"dr_lighting_wooccvar\", \"dr_lighting_woccvar\", \"retrofit_equipment_wooccvar\", \"retrofit_equipment_woccvar\"], \"y\": [\"0.00\", \"0.00\", \"0.00\", \"0.00\", \"0.00\", \"0.00\", \"0.00\", \"0.00\"]}],\n",
       "                        {\"barmode\": \"stack\", \"height\": 400, \"margin\": {\"b\": 0, \"l\": 0, \"r\": 0, \"t\": 0}, \"plot_bgcolor\": \"white\", \"showlegend\": true, \"template\": {\"data\": {\"bar\": [{\"error_x\": {\"color\": \"#2a3f5f\"}, \"error_y\": {\"color\": \"#2a3f5f\"}, \"marker\": {\"line\": {\"color\": \"#E5ECF6\", \"width\": 0.5}}, \"type\": \"bar\"}], \"barpolar\": [{\"marker\": {\"line\": {\"color\": \"#E5ECF6\", \"width\": 0.5}}, \"type\": \"barpolar\"}], \"carpet\": [{\"aaxis\": {\"endlinecolor\": \"#2a3f5f\", \"gridcolor\": \"white\", \"linecolor\": \"white\", \"minorgridcolor\": \"white\", \"startlinecolor\": \"#2a3f5f\"}, \"baxis\": {\"endlinecolor\": \"#2a3f5f\", \"gridcolor\": \"white\", \"linecolor\": \"white\", \"minorgridcolor\": \"white\", \"startlinecolor\": \"#2a3f5f\"}, \"type\": \"carpet\"}], \"choropleth\": [{\"colorbar\": {\"outlinewidth\": 0, \"ticks\": \"\"}, \"type\": \"choropleth\"}], \"contour\": [{\"colorbar\": {\"outlinewidth\": 0, \"ticks\": \"\"}, \"colorscale\": [[0.0, \"#0d0887\"], [0.1111111111111111, \"#46039f\"], [0.2222222222222222, \"#7201a8\"], [0.3333333333333333, \"#9c179e\"], [0.4444444444444444, \"#bd3786\"], [0.5555555555555556, \"#d8576b\"], [0.6666666666666666, \"#ed7953\"], [0.7777777777777778, \"#fb9f3a\"], [0.8888888888888888, \"#fdca26\"], [1.0, \"#f0f921\"]], \"type\": \"contour\"}], \"contourcarpet\": [{\"colorbar\": {\"outlinewidth\": 0, \"ticks\": \"\"}, \"type\": \"contourcarpet\"}], \"heatmap\": [{\"colorbar\": {\"outlinewidth\": 0, \"ticks\": \"\"}, \"colorscale\": [[0.0, \"#0d0887\"], [0.1111111111111111, \"#46039f\"], [0.2222222222222222, \"#7201a8\"], [0.3333333333333333, \"#9c179e\"], [0.4444444444444444, \"#bd3786\"], [0.5555555555555556, \"#d8576b\"], [0.6666666666666666, \"#ed7953\"], [0.7777777777777778, \"#fb9f3a\"], [0.8888888888888888, \"#fdca26\"], [1.0, \"#f0f921\"]], \"type\": \"heatmap\"}], \"heatmapgl\": [{\"colorbar\": {\"outlinewidth\": 0, \"ticks\": \"\"}, \"colorscale\": [[0.0, \"#0d0887\"], [0.1111111111111111, \"#46039f\"], [0.2222222222222222, \"#7201a8\"], [0.3333333333333333, \"#9c179e\"], [0.4444444444444444, \"#bd3786\"], [0.5555555555555556, \"#d8576b\"], [0.6666666666666666, \"#ed7953\"], [0.7777777777777778, \"#fb9f3a\"], [0.8888888888888888, \"#fdca26\"], [1.0, \"#f0f921\"]], \"type\": \"heatmapgl\"}], \"histogram\": [{\"marker\": {\"colorbar\": {\"outlinewidth\": 0, \"ticks\": \"\"}}, \"type\": \"histogram\"}], \"histogram2d\": [{\"colorbar\": {\"outlinewidth\": 0, \"ticks\": \"\"}, \"colorscale\": [[0.0, \"#0d0887\"], [0.1111111111111111, \"#46039f\"], [0.2222222222222222, \"#7201a8\"], [0.3333333333333333, \"#9c179e\"], [0.4444444444444444, \"#bd3786\"], [0.5555555555555556, \"#d8576b\"], [0.6666666666666666, \"#ed7953\"], [0.7777777777777778, \"#fb9f3a\"], [0.8888888888888888, \"#fdca26\"], [1.0, \"#f0f921\"]], \"type\": \"histogram2d\"}], \"histogram2dcontour\": [{\"colorbar\": {\"outlinewidth\": 0, \"ticks\": \"\"}, \"colorscale\": [[0.0, \"#0d0887\"], [0.1111111111111111, \"#46039f\"], [0.2222222222222222, \"#7201a8\"], [0.3333333333333333, \"#9c179e\"], [0.4444444444444444, \"#bd3786\"], [0.5555555555555556, \"#d8576b\"], [0.6666666666666666, \"#ed7953\"], [0.7777777777777778, \"#fb9f3a\"], [0.8888888888888888, \"#fdca26\"], [1.0, \"#f0f921\"]], \"type\": \"histogram2dcontour\"}], \"mesh3d\": [{\"colorbar\": {\"outlinewidth\": 0, \"ticks\": \"\"}, \"type\": \"mesh3d\"}], \"parcoords\": [{\"line\": {\"colorbar\": {\"outlinewidth\": 0, \"ticks\": \"\"}}, \"type\": \"parcoords\"}], \"pie\": [{\"automargin\": true, \"type\": \"pie\"}], \"scatter\": [{\"marker\": {\"colorbar\": {\"outlinewidth\": 0, \"ticks\": \"\"}}, \"type\": \"scatter\"}], \"scatter3d\": [{\"line\": {\"colorbar\": {\"outlinewidth\": 0, \"ticks\": \"\"}}, \"marker\": {\"colorbar\": {\"outlinewidth\": 0, \"ticks\": \"\"}}, \"type\": \"scatter3d\"}], \"scattercarpet\": [{\"marker\": {\"colorbar\": {\"outlinewidth\": 0, \"ticks\": \"\"}}, \"type\": \"scattercarpet\"}], \"scattergeo\": [{\"marker\": {\"colorbar\": {\"outlinewidth\": 0, \"ticks\": \"\"}}, \"type\": \"scattergeo\"}], \"scattergl\": [{\"marker\": {\"colorbar\": {\"outlinewidth\": 0, \"ticks\": \"\"}}, \"type\": \"scattergl\"}], \"scattermapbox\": [{\"marker\": {\"colorbar\": {\"outlinewidth\": 0, \"ticks\": \"\"}}, \"type\": \"scattermapbox\"}], \"scatterpolar\": [{\"marker\": {\"colorbar\": {\"outlinewidth\": 0, \"ticks\": \"\"}}, \"type\": \"scatterpolar\"}], \"scatterpolargl\": [{\"marker\": {\"colorbar\": {\"outlinewidth\": 0, \"ticks\": \"\"}}, \"type\": \"scatterpolargl\"}], \"scatterternary\": [{\"marker\": {\"colorbar\": {\"outlinewidth\": 0, \"ticks\": \"\"}}, \"type\": \"scatterternary\"}], \"surface\": [{\"colorbar\": {\"outlinewidth\": 0, \"ticks\": \"\"}, \"colorscale\": [[0.0, \"#0d0887\"], [0.1111111111111111, \"#46039f\"], [0.2222222222222222, \"#7201a8\"], [0.3333333333333333, \"#9c179e\"], [0.4444444444444444, \"#bd3786\"], [0.5555555555555556, \"#d8576b\"], [0.6666666666666666, \"#ed7953\"], [0.7777777777777778, \"#fb9f3a\"], [0.8888888888888888, \"#fdca26\"], [1.0, \"#f0f921\"]], \"type\": \"surface\"}], \"table\": [{\"cells\": {\"fill\": {\"color\": \"#EBF0F8\"}, \"line\": {\"color\": \"white\"}}, \"header\": {\"fill\": {\"color\": \"#C8D4E3\"}, \"line\": {\"color\": \"white\"}}, \"type\": \"table\"}]}, \"layout\": {\"annotationdefaults\": {\"arrowcolor\": \"#2a3f5f\", \"arrowhead\": 0, \"arrowwidth\": 1}, \"coloraxis\": {\"colorbar\": {\"outlinewidth\": 0, \"ticks\": \"\"}}, \"colorscale\": {\"diverging\": [[0, \"#8e0152\"], [0.1, \"#c51b7d\"], [0.2, \"#de77ae\"], [0.3, \"#f1b6da\"], [0.4, \"#fde0ef\"], [0.5, \"#f7f7f7\"], [0.6, \"#e6f5d0\"], [0.7, \"#b8e186\"], [0.8, \"#7fbc41\"], [0.9, \"#4d9221\"], [1, \"#276419\"]], \"sequential\": [[0.0, \"#0d0887\"], [0.1111111111111111, \"#46039f\"], [0.2222222222222222, \"#7201a8\"], [0.3333333333333333, \"#9c179e\"], [0.4444444444444444, \"#bd3786\"], [0.5555555555555556, \"#d8576b\"], [0.6666666666666666, \"#ed7953\"], [0.7777777777777778, \"#fb9f3a\"], [0.8888888888888888, \"#fdca26\"], [1.0, \"#f0f921\"]], \"sequentialminus\": [[0.0, \"#0d0887\"], [0.1111111111111111, \"#46039f\"], [0.2222222222222222, \"#7201a8\"], [0.3333333333333333, \"#9c179e\"], [0.4444444444444444, \"#bd3786\"], [0.5555555555555556, \"#d8576b\"], [0.6666666666666666, \"#ed7953\"], [0.7777777777777778, \"#fb9f3a\"], [0.8888888888888888, \"#fdca26\"], [1.0, \"#f0f921\"]]}, \"colorway\": [\"#636efa\", \"#EF553B\", \"#00cc96\", \"#ab63fa\", \"#FFA15A\", \"#19d3f3\", \"#FF6692\", \"#B6E880\", \"#FF97FF\", \"#FECB52\"], \"font\": {\"color\": \"#2a3f5f\"}, \"geo\": {\"bgcolor\": \"white\", \"lakecolor\": \"white\", \"landcolor\": \"#E5ECF6\", \"showlakes\": true, \"showland\": true, \"subunitcolor\": \"white\"}, \"hoverlabel\": {\"align\": \"left\"}, \"hovermode\": \"closest\", \"mapbox\": {\"style\": \"light\"}, \"paper_bgcolor\": \"white\", \"plot_bgcolor\": \"#E5ECF6\", \"polar\": {\"angularaxis\": {\"gridcolor\": \"white\", \"linecolor\": \"white\", \"ticks\": \"\"}, \"bgcolor\": \"#E5ECF6\", \"radialaxis\": {\"gridcolor\": \"white\", \"linecolor\": \"white\", \"ticks\": \"\"}}, \"scene\": {\"xaxis\": {\"backgroundcolor\": \"#E5ECF6\", \"gridcolor\": \"white\", \"gridwidth\": 2, \"linecolor\": \"white\", \"showbackground\": true, \"ticks\": \"\", \"zerolinecolor\": \"white\"}, \"yaxis\": {\"backgroundcolor\": \"#E5ECF6\", \"gridcolor\": \"white\", \"gridwidth\": 2, \"linecolor\": \"white\", \"showbackground\": true, \"ticks\": \"\", \"zerolinecolor\": \"white\"}, \"zaxis\": {\"backgroundcolor\": \"#E5ECF6\", \"gridcolor\": \"white\", \"gridwidth\": 2, \"linecolor\": \"white\", \"showbackground\": true, \"ticks\": \"\", \"zerolinecolor\": \"white\"}}, \"shapedefaults\": {\"line\": {\"color\": \"#2a3f5f\"}}, \"ternary\": {\"aaxis\": {\"gridcolor\": \"white\", \"linecolor\": \"white\", \"ticks\": \"\"}, \"baxis\": {\"gridcolor\": \"white\", \"linecolor\": \"white\", \"ticks\": \"\"}, \"bgcolor\": \"#E5ECF6\", \"caxis\": {\"gridcolor\": \"white\", \"linecolor\": \"white\", \"ticks\": \"\"}}, \"title\": {\"x\": 0.05}, \"xaxis\": {\"automargin\": true, \"gridcolor\": \"white\", \"linecolor\": \"white\", \"ticks\": \"\", \"title\": {\"standoff\": 15}, \"zerolinecolor\": \"white\", \"zerolinewidth\": 2}, \"yaxis\": {\"automargin\": true, \"gridcolor\": \"white\", \"linecolor\": \"white\", \"ticks\": \"\", \"title\": {\"standoff\": 15}, \"zerolinecolor\": \"white\", \"zerolinewidth\": 2}}}, \"width\": 800, \"yaxis\": {\"title\": {\"font\": {\"size\": 14}, \"text\": \"Natural Gas [GJ]\"}}},\n",
       "                        {\"responsive\": true}\n",
       "                    ).then(function(){\n",
       "                            \n",
       "var gd = document.getElementById('e2b3c917-edac-46f0-bd44-48259a2d01e8');\n",
       "var x = new MutationObserver(function (mutations, observer) {{\n",
       "        var display = window.getComputedStyle(gd).display;\n",
       "        if (!display || display === 'none') {{\n",
       "            console.log([gd, 'removed!']);\n",
       "            Plotly.purge(gd);\n",
       "            observer.disconnect();\n",
       "        }}\n",
       "}});\n",
       "\n",
       "// Listen for the removal of the full notebook cells\n",
       "var notebookContainer = gd.closest('#notebook-container');\n",
       "if (notebookContainer) {{\n",
       "    x.observe(notebookContainer, {childList: true});\n",
       "}}\n",
       "\n",
       "// Listen for the clearing of the current output cell\n",
       "var outputEl = gd.closest('.output');\n",
       "if (outputEl) {{\n",
       "    x.observe(outputEl, {childList: true});\n",
       "}}\n",
       "\n",
       "                        })\n",
       "                };\n",
       "                });\n",
       "            </script>\n",
       "        </div>"
      ]
     },
     "metadata": {},
     "output_type": "display_data"
    }
   ],
   "source": [
    "#enduse = \"Electricity [GJ]\"\n",
    "enduse = \"Natural Gas [GJ]\"\n",
    "\n",
    "df_combined = pd.DataFrame([])\n",
    "\n",
    "for scn in sceanrios:\n",
    "    \n",
    "    print(scn)\n",
    "\n",
    "    df = pd.read_html(scn)\n",
    "    scenarioname = scn.split('eplustbl_')[1].replace('.htm','')\n",
    "    df = df[3]\n",
    "    df.columns = df.iloc[0]\n",
    "    df = df[1:]\n",
    "    df = df.rename(columns={enduse: scenarioname})\n",
    "    df_temp = df[scenarioname]\n",
    "    df_combined = df_combined.append(df_temp.T)\n",
    "\n",
    "df_combined = df_combined.T\n",
    "df_combined.index = df.iloc[:,0]\n",
    "df_combined = df_combined.dropna()\n",
    "df_combined = df_combined.drop(['Total End Uses'],axis=0)\n",
    "\n",
    "fig = go.Figure()\n",
    "\n",
    "for row in df_combined.index:\n",
    "    fig.add_trace(go.Bar(\n",
    "        x=df_combined.columns,\n",
    "        y=df_combined.loc[row,:],\n",
    "        name=row,\n",
    "    ))\n",
    "\n",
    "fig.update_layout(\n",
    "    barmode='stack',\n",
    "    width=800,\n",
    "    height=400,\n",
    "    yaxis = dict(\n",
    "        title=enduse,\n",
    "        title_font = {\"size\": 14},\n",
    "    ),\n",
    "    margin=dict(\n",
    "        l=0,\n",
    "        r=0,\n",
    "        t=0,\n",
    "        b=0\n",
    "    ),\n",
    "    showlegend=True,\n",
    "    plot_bgcolor='white'\n",
    ")\n",
    "\n",
    "fig.show()"
   ]
  },
  {
   "cell_type": "code",
   "execution_count": null,
   "metadata": {},
   "outputs": [],
   "source": []
  }
 ],
 "metadata": {
  "kernelspec": {
   "display_name": "Python 3",
   "language": "python",
   "name": "python3"
  },
  "language_info": {
   "codemirror_mode": {
    "name": "ipython",
    "version": 3
   },
   "file_extension": ".py",
   "mimetype": "text/x-python",
   "name": "python",
   "nbconvert_exporter": "python",
   "pygments_lexer": "ipython3",
   "version": "3.7.3"
  }
 },
 "nbformat": 4,
 "nbformat_minor": 2
}
